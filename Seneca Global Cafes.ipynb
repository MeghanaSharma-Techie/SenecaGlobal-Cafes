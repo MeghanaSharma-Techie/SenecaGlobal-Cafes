{
 "cells": [
  {
   "cell_type": "code",
   "execution_count": 0,
   "metadata": {
    "application/vnd.databricks.v1+cell": {
     "cellMetadata": {
      "byteLimit": 2048000,
      "rowLimit": 10000
     },
     "inputWidgets": {},
     "nuid": "c1db0938-e516-4ef5-b35b-3de69b6f0a81",
     "showTitle": false,
     "tableResultSettingsMap": {},
     "title": ""
    },
    "jupyter": {
     "outputs_hidden": true
    }
   },
   "outputs": [
    {
     "output_type": "stream",
     "name": "stdout",
     "output_type": "stream",
     "text": [
      "Meghana Sharma\n"
     ]
    }
   ],
   "source": [
    "print(\"Meghana Sharma\")"
   ]
  },
  {
   "cell_type": "code",
   "execution_count": 0,
   "metadata": {
    "application/vnd.databricks.v1+cell": {
     "cellMetadata": {
      "byteLimit": 2048000,
      "rowLimit": 10000
     },
     "inputWidgets": {},
     "nuid": "f99d4ce6-d36e-4729-a2a8-626b3d28d2e2",
     "showTitle": true,
     "tableResultSettingsMap": {},
     "title": "Checking API Working or not"
    }
   },
   "outputs": [
    {
     "output_type": "stream",
     "name": "stdout",
     "output_type": "stream",
     "text": [
      "{'html_attributions': [], 'next_page_token': 'AeeoHcJUTaqqfbM7nDgw8saiJA5qvAl0ef4-Y4irImAJvYICx4t2Sg6wkcKkJo_yoQK3QRekAGaAPjJeo2dlPr_TgBG5YT7CECvYMSpCD54Vt4k0pXqij1NQOxagQixVQhbvUxKkmUwG5wTyctvgLTg7W7jdodTAib4bpLf5DfYjQpFdlkwCent_z6LwHiD1yEDP14CYhiET5IimWel9kPP5XIqwqAoxUvUF6p6oZjP3uO2RNtGAm5JkSnApTE34FcLwYykMD2g6jZiOvwlCnCKQTyDD7Ww9giyz86Xb1NjId8PPnQMxgogW-3Pee_pGftqgn304jCVXI2P7Cauwbj6llFHBTWmBwi72rPvZm2S_J5ZWr0D0wxuHItw0j123TkU8DOe5S5eWCSXTsRnJDGntqwyIzA', 'results': [{'business_status': 'OPERATIONAL', 'formatted_address': 'Shop 7.07-7.08/25 Martin Pl, Sydney NSW 2000, Australia', 'geometry': {'location': {'lat': -33.8680725, 'lng': 151.2093505}, 'viewport': {'northeast': {'lat': -33.86693242010728, 'lng': 151.2108943298927}, 'southwest': {'lat': -33.86963207989272, 'lng': 151.2081946701073}}}, 'icon': 'https://maps.gstatic.com/mapfiles/place_api/icons/v1/png_71/restaurant-71.png', 'icon_background_color': '#FF9E67', 'icon_mask_base_uri': 'https://maps.gstatic.com/mapfiles/place_api/icons/v2/restaurant_pinlet', 'name': 'AALIA Restaurant Sydney', 'opening_hours': {'open_now': True}, 'photos': [{'height': 3333, 'html_attributions': ['<a href=\"https://maps.google.com/maps/contrib/106871370367922611341\">A Google User</a>'], 'photo_reference': 'AeeoHcIn6a7fx6WlrU87ytSIpUhPOJQ38WOl41qQKV0Df4YAwao1oTcnRZabszPhIRZOeIR2FNfpUn1M8GfIdH8SrmFEA-fmOdoq8VC98qQRc_nSprhwWH_IoDpLYneLuL2_onsM17MQiQV7NqUnXwte6TiLk3RwlsYgwXFcZacqYIzotIQPGxaV4W__Nd_mYDChDgwy_Fgi9CGbRPdSrrvlLiY6h0AqLsKy5UMkx4W3NdbKpJn3wYnjMUIZZ_H7ARrzAbHF96g-qiBhf04Ir1dDp7QyiaJ2ZUSvrnzKJW5twe0s5ydmrdA', 'width': 5000}], 'place_id': 'ChIJdRmuCG2vEmsRYPe76JjEY5I', 'plus_code': {'compound_code': '46J5+QP Sydney, New South Wales, Australia', 'global_code': '4RRH46J5+QP'}, 'price_level': 3, 'rating': 4.7, 'reference': 'ChIJdRmuCG2vEmsRYPe76JjEY5I', 'types': ['restaurant', 'food', 'point_of_interest', 'establishment'], 'user_ratings_total': 900}, {'business_status': 'OPERATIONAL', 'formatted_address': '1 Macquarie St, Sydney NSW 2000, Australia', 'geometry': {'location': {'lat': -33.8592041, 'lng': 151.2132635}, 'viewport': {'northeast': {'lat': -33.85783302010728, 'lng': 151.2147141798927}, 'southwest': {'lat': -33.86053267989273, 'lng': 151.2120145201073}}}, 'icon': 'https://maps.gstatic.com/mapfiles/place_api/icons/v1/png_71/restaurant-71.png', 'icon_background_color': '#FF9E67', 'icon_mask_base_uri': 'https://maps.gstatic.com/mapfiles/place_api/icons/v2/restaurant_pinlet', 'name': 'Aria Restaurant Sydney', 'opening_hours': {'open_now': True}, 'photos': [{'height': 2756, 'html_attributions': ['<a href=\"https://maps.google.com/maps/contrib/104093802548855304589\">A Google User</a>'], 'photo_reference': 'AeeoHcK-bhrg1bgUKL-Tw7jeHaSF2QnjZCmz_yi8e4M_HWL4h7G8Q3wZwzqzDnj-7Pq1U-Z57SoQWW7mZqGYorwmt8Wx5rwY02Enea_kyeMOFYH1b9FvyQIoAkHpGO1k_RWrRAcEbgpeOPd9ocGZSdeZ4LWx0p8k9bPuD4fwy3LhF655d3I9YHRq82kTXcnYVX0E57QDpa-9h0feSoe0dHSXi82ARftnHLcDvktiLHQoTQOhMtnxZlxKimrCzjvvbr4IFtbR8xKcaLLVIdRtHwVcCedWjkLRtw-2rih1d6J7irn9s0GysTM', 'width': 4134}], 'place_id': 'ChIJdxxU1WeuEmsR11c4fswX-Io', 'plus_code': {'compound_code': '46R7+88 Sydney, New South Wales, Australia', 'global_code': '4RRH46R7+88'}, 'price_level': 4, 'rating': 4.5, 'reference': 'ChIJdxxU1WeuEmsR11c4fswX-Io', 'types': ['restaurant', 'food', 'point_of_interest', 'establishment'], 'user_ratings_total': 2198}, {'business_status': 'OPERATIONAL', 'formatted_address': '15 Bligh St, Sydney NSW 2000, Australia', 'geometry': {'location': {'lat': -33.8651364, 'lng': 151.2104812}, 'viewport': {'northeast': {'lat': -33.86383727010728, 'lng': 151.2118845298927}, 'southwest': {'lat': -33.86653692989272, 'lng': 151.2091848701073}}}, 'icon': 'https://maps.gstatic.com/mapfiles/place_api/icons/v1/png_71/restaurant-71.png', 'icon_background_color': '#FF9E67', 'icon_mask_base_uri': 'https://maps.gstatic.com/mapfiles/place_api/icons/v2/restaurant_pinlet', 'name': 'Restaurant Hubert', 'opening_hours': {'open_now': True}, 'photos': [{'height': 683, 'html_attributions': ['<a href=\"https://maps.google.com/maps/contrib/113719639442868633401\">Ashley Hughes</a>'], 'photo_reference': 'AeeoHcJbLX6a3dsyT-MKghDdhgbbdQGwBNa-a4XqgqCdZ0B_sF7qb3oeHsOdF2cydAJajSTy8GctKjJntQwbiu32Txn5xM-n5lJsira5T-Oke6biMBDmrBg12f9G6262SmdpGAoZNPXNAm_yaX88XO8LFPy2z5tkZUQY3QC5boCSrrCKc9OWPhhti5-hQmWCsYOQ2-iQrsLEqrVLA5BJK1Bfse4CPGVlvQOAF5374Gj6NMqEzUQbKbuexr8OEWxDLlbPbjsU8b3piB97nuPntfN4CJqKDbM6j9vXur-76dTNIPGln9XUtTNDDoG6admlLxhmb-QZslhOofjF5fD41N0GmsBfr4kNiYzqvFjd0q0VHxx8Vo1mFIrqHxtu_EAHHjs9peQJVLJslbTlZ2BmQ0XLw9MO2xAJr9hbzqJ6Tdu8OMPIItl1pgk9XcmjdVr0DQwAUQzRJvQGVAkGWK_0kXduogXvDWXIYY5I1g_QjsRJbojfBBnOcdO-kxCasoSfYHXtAjOKrHdqdCdiJeDE4ftMaUqazkOcztuvyCE0A_EdxVXTfiGXzYGqF5rfr4-dpks00kq0Cw', 'width': 1024}], 'place_id': 'ChIJF5-RdGquEmsR5rN_H74uSqQ', 'plus_code': {'compound_code': '46M6+W5 Sydney, New South Wales, Australia', 'global_code': '4RRH46M6+W5'}, 'price_level': 3, 'rating': 4.6, 'reference': 'ChIJF5-RdGquEmsR5rN_H74uSqQ', 'types': ['restaurant', 'food', 'point_of_interest', 'establishment'], 'user_ratings_total': 4415}, {'business_status': 'OPERATIONAL', 'formatted_address': 'Sydney Opera House, Bennelong Point, Sydney NSW 2000, Australia', 'geometry': {'location': {'lat': -33.8574468, 'lng': 151.2147431}, 'viewport': {'northeast': {'lat': -33.8567366, 'lng': 151.2155230798928}, 'southwest': {'lat': -33.85957740000001, 'lng': 151.2128234201073}}}, 'icon': 'https://maps.gstatic.com/mapfiles/place_api/icons/v1/png_71/restaurant-71.png', 'icon_background_color': '#FF9E67', 'icon_mask_base_uri': 'https://maps.gstatic.com/mapfiles/place_api/icons/v2/restaurant_pinlet', 'name': 'Bennelong', 'opening_hours': {'open_now': True}, 'photos': [{'height': 3840, 'html_attributions': ['<a href=\"https://maps.google.com/maps/contrib/112111459665476218482\">A Google User</a>'], 'photo_reference': 'AeeoHcIXyUzTQNbTYv3nc2y1fiNXHJwinyW0RrZpKPjJDNeCtWQmvYfPGqIpANZ21V-mlbOGQDY8syIb3CO5YaJw-hEdF-6dQlbdHQL9nffibRqRbatmaijwxwzMzmyRgPmJu8b5PHyDpWozROjEESvum1Qkmt10MKQGoQ5fSufl23ZGrao-S1lvteJpLl1k6BoJXvPnM8c4sBrOQwOjCyz9Tyn03xuqgdBfuo9LtDczGPKV9jo7eTr7sYrct6U-MkopblNMdt9rUg52e5ityGaJ1SDjgT4v9s7AjWUKbkn5jJMFn2X2ccc', 'width': 5760}], 'place_id': 'ChIJQcmNYGauEmsR84D5HAJJUhw', 'plus_code': {'compound_code': '46V7+2V Sydney, New South Wales, Australia', 'global_code': '4RRH46V7+2V'}, 'price_level': 4, 'rating': 4.5, 'reference': 'ChIJQcmNYGauEmsR84D5HAJJUhw', 'types': ['bar', 'restaurant', 'food', 'point_of_interest', 'establishment'], 'user_ratings_total': 1846}, {'business_status': 'OPERATIONAL', 'formatted_address': '168 Clarence St, Sydney NSW 2000, Australia', 'geometry': {'location': {'lat': -33.8701437, 'lng': 151.2056158}, 'viewport': {'northeast': {'lat': -33.86884967010727, 'lng': 151.2068790298927}, 'southwest': {'lat': -33.87154932989272, 'lng': 151.2041793701073}}}, 'icon': 'https://maps.gstatic.com/mapfiles/place_api/icons/v1/png_71/restaurant-71.png', 'icon_background_color': '#FF9E67', 'icon_mask_base_uri': 'https://maps.gstatic.com/mapfiles/place_api/icons/v2/restaurant_pinlet', 'name': 'Primi Italian', 'opening_hours': {'open_now': True}, 'photos': [{'height': 4024, 'html_attributions': ['<a href=\"https://maps.google.com/maps/contrib/100126645482025668633\">A Google User</a>'], 'photo_reference': 'AeeoHcI94LbH9mB5aDZQO37NBlO2Wh4LTCScdaYe5OZrA4nYR2dRuvPh_QhkhYgD1ylY2BVfalsFwPU6gHwGoYxBt0zXuYjigUdvYhuS2GkXOICVImw8iCK1OdqZhX7n3V7EuTvjBTq2pSFGtM7R7r5ee73UOW9iIfPwkauQuQMo_F5NR_CVPhB7ZCg2PBdCTO0rOUHWSGqJOdxC80TCvHkK1JHw6BAPwENwhDAi2KyMTcHxSxJLp_X4eWyLBr8g3sbUsZVw3P5lL4uJ6RZUmvsCUhPINQ7SLEu_o6tULcPAfl8hIHK0jYQ', 'width': 6048}], 'place_id': 'ChIJs3cv0KuvEmsRHcXYwNJ6GU0', 'plus_code': {'compound_code': '46H4+W6 Sydney, New South Wales, Australia', 'global_code': '4RRH46H4+W6'}, 'price_level': 2, 'rating': 4.8, 'reference': 'ChIJs3cv0KuvEmsRHcXYwNJ6GU0', 'types': ['restaurant', 'food', 'point_of_interest', 'establishment'], 'user_ratings_total': 2713}, {'business_status': 'OPERATIONAL', 'formatted_address': 'Bay 10 & 11, Campbell’s Stores, 7-27 Circular Quay W, The Rocks NSW 2000, Australia', 'geometry': {'location': {'lat': -33.8566476, 'lng': 151.2090994}, 'viewport': {'northeast': {'lat': -33.85521642010728, 'lng': 151.2105804298927}, 'southwest': {'lat': -33.85791607989272, 'lng': 151.2078807701072}}}, 'icon': 'https://maps.gstatic.com/mapfiles/place_api/icons/v1/png_71/restaurant-71.png', 'icon_background_color': '#FF9E67', 'icon_mask_base_uri': 'https://maps.gstatic.com/mapfiles/place_api/icons/v2/restaurant_pinlet', 'name': '6HEAD Sydney', 'opening_hours': {'open_now': True}, 'photos': [{'height': 1198, 'html_attributions': ['<a href=\"https://maps.google.com/maps/contrib/100370165353560323927\">A Google User</a>'], 'photo_reference': 'AeeoHcI60iIO3RweZQTkmISHBIbGy78_EEGg7H_s7CYz0sRs-lRCBTOpY6RqZ-kj6doAsf-CTIU8hJ6P7jZ3XXnyD61G2xmj0mgcuUsEFoRtAFDmhjwoj21L4hq2G3midxX7PwbQsqfhrLK0q3IXNL4jLMTKOFTlR5B2mo6bCqg39Yh43cUgmo8ZWYTd8_Bhkdo4b4xi1fyuaOMGSvMHJEFsYSBoNHt_PlwobcSjqVvjUOXx3wPSaWUqWZnu0l3p4mHvihcCr8JZP1VTIPthXRssLo5v00oTlab79IJ5SC0NHMIkA9JgxTM', 'width': 1800}], 'place_id': 'ChIJB7lkaV2uEmsRoPnko9dUzYw', 'plus_code': {'compound_code': '46V5+8J The Rocks, New South Wales, Australia', 'global_code': '4RRH46V5+8J'}, 'rating': 4.5, 'reference': 'ChIJB7lkaV2uEmsRoPnko9dUzYw', 'types': ['bar', 'restaurant', 'food', 'point_of_interest', 'establishment'], 'user_ratings_total': 2630}, {'business_status': 'OPERATIONAL', 'formatted_address': '108 Market St, Sydney NSW 2000, Australia', 'geometry': {'location': {'lat': -33.8704948, 'lng': 151.2089233}, 'viewport': {'northeast': {'lat': -33.86927102010728, 'lng': 151.2100343298927}, 'southwest': {'lat': -33.87197067989273, 'lng': 151.2073346701073}}}, 'icon': 'https://maps.gstatic.com/mapfiles/place_api/icons/v1/png_71/restaurant-71.png', 'icon_background_color': '#FF9E67', 'icon_mask_base_uri': 'https://maps.gstatic.com/mapfiles/place_api/icons/v2/restaurant_pinlet', 'name': 'Infinity at Sydney Tower', 'opening_hours': {'open_now': True}, 'photos': [{'height': 747, 'html_attributions': ['<a href=\"https://maps.google.com/maps/contrib/115719101199823986908\">A Google User</a>'], 'photo_reference': 'AeeoHcJkxd8GUP-iFivZsRA_7jKmQQYnbiDotO_T5-a7Et3k77g9Tig4lOeiwMk7c2JCz7BbxCJ6U00pxZRRcl8-frvBHOFZZeBypux4tnrGHXpy6YFOZlsAc3QPRIgGPjSuO-1anhoZBgCdxfxxzbEY4ZNa-QGl6_5TzKaMpiFy6fIV4QnVP7pYb6c-llQ6d1qDRNV0QPJFzL5rGSCoFIC_CU9mOUzkwHgswve70GLdUwSF0pdMU5hJ6vzIwBf1Y6E4rTC77nWwuDxwGVVShd031Ax68LhFro81sRWA2OJpSD8dGDcuLWQ', 'width': 1080}], 'place_id': 'ChIJK4Tktz-uEmsR4wAu4Lf6dCg', 'plus_code': {'compound_code': '46H5+RH Sydney, New South Wales, Australia', 'global_code': '4RRH46H5+RH'}, 'price_level': 3, 'rating': 4.5, 'reference': 'ChIJK4Tktz-uEmsR4wAu4Lf6dCg', 'types': ['bar', 'restaurant', 'food', 'point_of_interest', 'establishment'], 'user_ratings_total': 3293}, {'business_status': 'OPERATIONAL', 'formatted_address': 'The Quay Building, 2 Phillip St, Sydney NSW 2000, Australia', 'geometry': {'location': {'lat': -33.861736, 'lng': 151.2122794}, 'viewport': {'northeast': {'lat': -33.86039287010728, 'lng': 151.2135701298927}, 'southwest': {'lat': -33.86309252989272, 'lng': 151.2108704701073}}}, 'icon': 'https://maps.gstatic.com/mapfiles/place_api/icons/v1/png_71/restaurant-71.png', 'icon_background_color': '#FF9E67', 'icon_mask_base_uri': 'https://maps.gstatic.com/mapfiles/place_api/icons/v2/restaurant_pinlet', 'name': 'The Spice Room', 'opening_hours': {'open_now': True}, 'photos': [{'height': 640, 'html_attributions': ['<a href=\"https://maps.google.com/maps/contrib/100998481991674378447\">The Spice Room</a>'], 'photo_reference': 'AeeoHcLUMzBxH5z5jQktz327Y6YNXlhkUQkH5glS2Z4aPixyfV0SOy2STJh73ORMn8sEVUFNRFyxnBfunUgD8KlF1qWnJPueYJ2Dq9BIcGfsVjYkP9E5OiZjM0_jCV-ra96q8rfJaV1KsbpS1gsDjaXf5SWV7CrDEdTsHne-HNXySJOFbX4vFcnRlFct0A2QAY8H-AvrtLr6-W3sHCvSDBkiGjsmOvEZUm8tO0AhPI6iW2DCJnWHWHiizZbEl8rz5OBmNtIFGAQEgXI8P9tIWvGuxBumjgGPxU9YX-pB-rdMC4wJugmSfX8', 'width': 960}], 'place_id': 'ChIJE18nTWiuEmsRUz-zCmu8p8U', 'plus_code': {'compound_code': '46Q6+8W Sydney, New South Wales, Australia', 'global_code': '4RRH46Q6+8W'}, 'price_level': 2, 'rating': 4.5, 'reference': 'ChIJE18nTWiuEmsRUz-zCmu8p8U', 'types': ['restaurant', 'food', 'point_of_interest', 'establishment'], 'user_ratings_total': 3021}, {'business_status': 'OPERATIONAL', 'formatted_address': '3/490 Crown St, Surry Hills NSW 2010, Australia', 'geometry': {'location': {'lat': -33.8867209, 'lng': 151.2138665}, 'viewport': {'northeast': {'lat': -33.88535432010728, 'lng': 151.2151556798927}, 'southwest': {'lat': -33.88805397989272, 'lng': 151.2124560201073}}}, 'icon': 'https://maps.gstatic.com/mapfiles/place_api/icons/v1/png_71/restaurant-71.png', 'icon_background_color': '#FF9E67', 'icon_mask_base_uri': 'https://maps.gstatic.com/mapfiles/place_api/icons/v2/restaurant_pinlet', 'name': 'NOUR', 'opening_hours': {'open_now': True}, 'photos': [{'height': 1169, 'html_attributions': ['<a href=\"https://maps.google.com/maps/contrib/107877777228877363429\">Nour</a>'], 'photo_reference': 'AeeoHcIZMIOhc-P9ypBZQyFCXb-njr_BDZqj0sMOWPiWo8zupyK2jrfFXBSumeRwrlEdibZVMtT9f5eGjbyj22LnpiWKp3sr7OBPGVo31bFCa5Sd4wqyHwtruIIcLcVLfcRfXsgzlt0jZLVLXlNIJw8Sp5nQtvsv6zq9Uz_Wnain5MDhRMlqEP2GPX6lySahp2tmWKRnO8O5QK7BBpN5GquzdAXm_2jsFJ9dQgWea_cwx4ORiJ7rHZp5Gb1wWj1NjoPhJfURwwMw8M3d6ToA-cJHSQlJAlintotZtEa3Xspa404G9T-J7EY', 'width': 1559}], 'place_id': 'ChIJJVDZ3B6uEmsRh5d3g-9xJio', 'plus_code': {'compound_code': '4677+8G Surry Hills, New South Wales, Australia', 'global_code': '4RRH4677+8G'}, 'price_level': 3, 'rating': 4.8, 'reference': 'ChIJJVDZ3B6uEmsRh5d3g-9xJio', 'types': ['bar', 'restaurant', 'food', 'point_of_interest', 'establishment'], 'user_ratings_total': 2997}, {'business_status': 'OPERATIONAL', 'formatted_address': 'Lyne Park, New South Head Rd, Rose Bay NSW 2029, Australia', 'geometry': {'location': {'lat': -33.8704584, 'lng': 151.2628539}, 'viewport': {'northeast': {'lat': -33.86919347010728, 'lng': 151.2642607298928}, 'southwest': {'lat': -33.87189312989273, 'lng': 151.2615610701073}}}, 'icon': 'https://maps.gstatic.com/mapfiles/place_api/icons/v1/png_71/restaurant-71.png', 'icon_background_color': '#FF9E67', 'icon_mask_base_uri': 'https://maps.gstatic.com/mapfiles/place_api/icons/v2/restaurant_pinlet', 'name': 'Catalina Restaurant', 'opening_hours': {'open_now': True}, 'photos': [{'height': 1869, 'html_attributions': ['<a href=\"https://maps.google.com/maps/contrib/102662401338526583509\">Catalina Restaurant</a>'], 'photo_reference': 'AeeoHcKriuk1EzILPOEKiwSPgrZWjkaNiBYjCqQLHKkA4AgUofmtVEQxTOJGLeojObr9PxifzFoH43hN1e8WJH3HPx7iRPbRPkoYwjVftE5tkln8IJFnlSSS9QSKZhq19RekkqlWtG-5HuDx7FGpqkuuRYvzobf14csAuwN12EOJGnD11uCRQgwjOsM6tlHdPHl0SSx5pIQKqeOfVJ0_e57EmiGowSQwG4VmfCzAI79f0OcZo1NYhofYA-DmFPIrJ3RUxpWoDj9pvPul4-THGdA5tNHST3L-9xn3ZLz1IYbgZdQ4t4jh7YM', 'width': 2500}], 'place_id': 'ChIJNQy2NLetEmsRFDh-uUIyFS4', 'plus_code': {'compound_code': '47H7+R4 Rose Bay, New South Wales, Australia', 'global_code': '4RRH47H7+R4'}, 'price_level': 4, 'rating': 4.7, 'reference': 'ChIJNQy2NLetEmsRFDh-uUIyFS4', 'types': ['bar', 'restaurant', 'food', 'point_of_interest', 'establishment'], 'user_ratings_total': 3564}, {'business_status': 'OPERATIONAL', 'formatted_address': '3 Dalley St, Sydney NSW 2000, Australia', 'geometry': {'location': {'lat': -33.8632981, 'lng': 151.2078628}, 'viewport': {'northeast': {'lat': -33.86191692010728, 'lng': 151.2092092298927}, 'southwest': {'lat': -33.86461657989273, 'lng': 151.2065095701072}}}, 'icon': 'https://maps.gstatic.com/mapfiles/place_api/icons/v1/png_71/restaurant-71.png', 'icon_background_color': '#FF9E67', 'icon_mask_base_uri': 'https://maps.gstatic.com/mapfiles/place_api/icons/v2/restaurant_pinlet', 'name': 'BISTECCA', 'opening_hours': {'open_now': True}, 'photos': [{'height': 1997, 'html_attributions': ['<a href=\"https://maps.google.com/maps/contrib/109536608214288696344\">A Google User</a>'], 'photo_reference': 'AeeoHcJ5gqfaPLsv2G7Xt-FMEizmnUwdSdijlVVgs-79pBunbEenOhwevPyQOtW_G9rlHholyEFfAqMQZdDicvmXdVRcqgyig7bb4EMYVfkVxBppKikzXwc48xn9RVUtb4W1kMtE523AvQnTIgnyAPbROndGMYLYUjqHBoKJzt3Nmx9vA2gD-nkzIX8kk4D52tXYuh5IBybZ-MEEkvcKZdTp_gV-rwExT8P6IM4md0iqyEOLmPBgBanz3NZtxqCMyjymtsyQFkCv2Uu-P_h3COnGTWjimGmuJl7bC1WYRnXPYeBuvBcUAaY', 'width': 3000}], 'place_id': 'ChIJ7w7CsmKvEmsR19M0RHhqZL8', 'plus_code': {'compound_code': '46P5+M4 Sydney, New South Wales, Australia', 'global_code': '4RRH46P5+M4'}, 'price_level': 3, 'rating': 4.7, 'reference': 'ChIJ7w7CsmKvEmsR19M0RHhqZL8', 'types': ['bar', 'restaurant', 'food', 'point_of_interest', 'establishment'], 'user_ratings_total': 1675}, {'business_status': 'OPERATIONAL', 'formatted_address': 'Level 5 Customs House, 31 Alfred St, Sydney NSW 2000, Australia', 'geometry': {'location': {'lat': -33.862079, 'lng': 151.2108919}, 'viewport': {'northeast': {'lat': -33.86049307010727, 'lng': 151.2124314798927}, 'southwest': {'lat': -33.86319272989272, 'lng': 151.2097318201073}}}, 'icon': 'https://maps.gstatic.com/mapfiles/place_api/icons/v1/png_71/restaurant-71.png', 'icon_background_color': '#FF9E67', 'icon_mask_base_uri': 'https://maps.gstatic.com/mapfiles/place_api/icons/v2/restaurant_pinlet', 'name': 'Cafe Sydney', 'opening_hours': {'open_now': True}, 'photos': [{'height': 2252, 'html_attributions': ['<a href=\"https://maps.google.com/maps/contrib/118139741780358554887\">A Google User</a>'], 'photo_reference': 'AeeoHcKe79gKjSmV78nUpdZNaq9FJN0ipZAlEIUL1wVIRQrbQspskM2hYlHTU05Ii40C98FKg0Lunl-EI55aUCQhcRMLBstrQqbE5B7JZWDpv1f_F5cl9ZU7EzD3VhoWMikZwrbo10IC1ZxNU8Vl3z7kH8FX2LFA0GPLYhll7f3NKYrMytIVhnho2n2EXo5KvoN3zEWVQR3I2cezv-2zW1D-Rs0MDIGjI985YpV57cIuJf4kY1x5A7OzoJ6CM_XRqUeZHg9p3Ck7edZ1lTV_4V8gCp2VzrOA4EKwzM_o7wR-bP6HjCX3T_s', 'width': 3000}], 'place_id': 'ChIJOahrAxKuEmsRiJOniUNkOZY', 'plus_code': {'compound_code': '46Q6+59 Sydney, New South Wales, Australia', 'global_code': '4RRH46Q6+59'}, 'price_level': 4, 'rating': 4.5, 'reference': 'ChIJOahrAxKuEmsRiJOniUNkOZY', 'types': ['cafe', 'bar', 'restaurant', 'food', 'point_of_interest', 'establishment'], 'user_ratings_total': 3588}, {'business_status': 'OPERATIONAL', 'formatted_address': 'Australia Square, level 47/264 George St, Sydney NSW 2000, Australia', 'geometry': {'location': {'lat': -33.8649023, 'lng': 151.207767}, 'viewport': {'northeast': {'lat': -33.86341322010728, 'lng': 151.2089768798927}, 'southwest': {'lat': -33.86611287989272, 'lng': 151.2062772201073}}}, 'icon': 'https://maps.gstatic.com/mapfiles/place_api/icons/v1/png_71/restaurant-71.png', 'icon_background_color': '#FF9E67', 'icon_mask_base_uri': 'https://maps.gstatic.com/mapfiles/place_api/icons/v2/restaurant_pinlet', 'name': 'O Bar and Dining', 'opening_hours': {'open_now': True}, 'photos': [{'height': 2414, 'html_attributions': ['<a href=\"https://maps.google.com/maps/contrib/103649992316188820216\">O Bar and Dining</a>'], 'photo_reference': 'AeeoHcI7Mt-GL-PuSlhxUKDB6yvxG3EBxPMQH6WXt6x65Y3_7oeftfmO1TAvgQ5Aq5i57iNU0BT5z7aZ-YYwOQA4dwDrSG4z8ZOXg2syWuUGDiFKcV2CAmayyQsyCwU3lrRIZ9mGACLdaKmeU6VMb5HUbi_nCjBvx9X_JpUGETryss25_AGBygtMpxglbt7C0d2pUQ9EXiuUI14t78DWssHk0hCuRJhGUVJxqwtXwl7D0njZHO4nEHQy6NnIaCUx3OQKb4qhRsjjVWkIyCCZpmkzYyOsJSvXKSHbW-UUuTMkfh5IdtBf-sE', 'width': 3543}], 'place_id': 'ChIJnzttoEGuEmsRjBEqGkOTGG8', 'plus_code': {'compound_code': '46P5+24 Sydney, New South Wales, Australia', 'global_code': '4RRH46P5+24'}, 'price_level': 4, 'rating': 4.4, 'reference': 'ChIJnzttoEGuEmsRjBEqGkOTGG8', 'types': ['night_club', 'bar', 'restaurant', 'food', 'point_of_interest', 'establishment'], 'user_ratings_total': 5039}, {'business_status': 'OPERATIONAL', 'formatted_address': '1 Temperance Ln, Sydney NSW 2000, Australia', 'geometry': {'location': {'lat': -33.86961410000001, 'lng': 151.2065551}, 'viewport': {'northeast': {'lat': -33.86828317010728, 'lng': 151.2076914298927}, 'southwest': {'lat': -33.87098282989272, 'lng': 151.2049917701073}}}, 'icon': 'https://maps.gstatic.com/mapfiles/place_api/icons/v1/png_71/restaurant-71.png', 'icon_background_color': '#FF9E67', 'icon_mask_base_uri': 'https://maps.gstatic.com/mapfiles/place_api/icons/v2/restaurant_pinlet', 'name': 'Esteban', 'opening_hours': {'open_now': False}, 'photos': [{'height': 3024, 'html_attributions': ['<a href=\"https://maps.google.com/maps/contrib/100758121787654425224\">A Google User</a>'], 'photo_reference': 'AeeoHcLna62nqZtjmM16rAI4JfGEJRIgj7CZDxBn-l0wkNbZZcs8sHVPFWB7vu_D5L4Jwt86ve6VK0SlpsYcAF0vssxJdIJjBjg1wtRV2-sPAcxwblzl7NKaPk6K402P93wqYEgcKOg6ByqfzoA9sUiolgGKQ_v8UEngc8iKDGLtvrrIyzh6F4o8nNkEkOcmnu6YO4jYkW2uJs7pjHYeV1mRP1JiLmye95CpdtTNd2iI4BkeAwIPN2vhd-PkSe3CYZUUuDB_SfDrEvB4chAb4W1S9RWYh1s_dktLSybhZj1cIuxbpRo00LiWZls59ULQpCx8kpGWB9CPaKPX6cbtTdkRkL7jpwuvsSXArucxsrwjDbA0wnSzDEGLseiV5dOutppZbOu86GwcscPpug5PYWhi_x6q3idPKggWdi__R6FMjq1j9utKyvQ3ZgwQvX6lrxry0YzgSlxgT62VkeFem5ws4p6hrIgbck-30hQ2QYdxV-m_k1e1QgMzehegaZs3cUUXt_uTpis1w6dsNf5O3RXjnPUS-3EWBdFnIc2gykoIfuH8gRyA3O6uumRXtewRRsnK8C3-Xr0OKGwi0Q', 'width': 4032}], 'place_id': 'ChIJY8CFEVqvEmsROwc8OdA6bEk', 'plus_code': {'compound_code': '46J4+5J Sydney, New South Wales, Australia', 'global_code': '4RRH46J4+5J'}, 'rating': 4.7, 'reference': 'ChIJY8CFEVqvEmsROwc8OdA6bEk', 'types': ['restaurant', 'food', 'point_of_interest', 'establishment'], 'user_ratings_total': 1380}, {'business_status': 'OPERATIONAL', 'formatted_address': 'Ground Floor/5-7 Young St, Sydney NSW 2000, Australia', 'geometry': {'location': {'lat': -33.8625166, 'lng': 151.2109494}, 'viewport': {'northeast': {'lat': -33.86133252010728, 'lng': 151.2123442798927}, 'southwest': {'lat': -33.86403217989272, 'lng': 151.2096446201072}}}, 'icon': 'https://maps.gstatic.com/mapfiles/place_api/icons/v1/png_71/restaurant-71.png', 'icon_background_color': '#FF9E67', 'icon_mask_base_uri': 'https://maps.gstatic.com/mapfiles/place_api/icons/v2/restaurant_pinlet', 'name': 'Grana', 'opening_hours': {'open_now': True}, 'photos': [{'height': 1498, 'html_attributions': ['<a href=\"https://maps.google.com/maps/contrib/107729064671378677931\">A Google User</a>'], 'photo_reference': 'AeeoHcLepjADGTKDOiGp7tSyJf9YrfXoEVmI-LfCr8hCTQ1iXRRnWrN4NP8GlMIGUa4PPLGlvTUZVsBwTq5bXR_SWLw0qdu1EX969i8onfRu-0ep5cDqr5vjxW8V8enwpH4D4aNM-fELk_BQ_EtSW0rfUdADWe6upZWQW9EhCltYgszCQPmREoYunAMpui5pVkv9hRfA5wXmgaGBxhZUKYRKfrdUHFne5JAN0Y4dc8V_tZmcfYW3LhLd2DagNCQHEP-NjWQY5YoSVfSmbp0enuGeoD3skj5z2snu1TOf67WhwkR8ItOYwm8', 'width': 1938}], 'place_id': 'ChIJvyZ8WvCvEmsRTqM2KE94_aw', 'plus_code': {'compound_code': '46P6+X9 Sydney, New South Wales, Australia', 'global_code': '4RRH46P6+X9'}, 'rating': 4.6, 'reference': 'ChIJvyZ8WvCvEmsRTqM2KE94_aw', 'types': ['restaurant', 'food', 'point_of_interest', 'establishment'], 'user_ratings_total': 1811}, {'business_status': 'OPERATIONAL', 'formatted_address': \"Campbell's Stores Bay, 1-3/7-27 Circular Quay W, The Rocks NSW 2000, Australia\", 'geometry': {'location': {'lat': -33.8572735, 'lng': 151.209424}, 'viewport': {'northeast': {'lat': -33.85552937010728, 'lng': 151.2106254798927}, 'southwest': {'lat': -33.85822902989273, 'lng': 151.2079258201073}}}, 'icon': 'https://maps.gstatic.com/mapfiles/place_api/icons/v1/png_71/restaurant-71.png', 'icon_background_color': '#FF9E67', 'icon_mask_base_uri': 'https://maps.gstatic.com/mapfiles/place_api/icons/v2/restaurant_pinlet', 'name': 'Harbourfront Seafood Restaurant Sydney The Rocks', 'opening_hours': {'open_now': True}, 'photos': [{'height': 3822, 'html_attributions': ['<a href=\"https://maps.google.com/maps/contrib/111156218876459464999\">A Google User</a>'], 'photo_reference': 'AeeoHcIQD3SnC5PyKTww96vQi529nn0XO7OxtssUvvaDJptD1lrovXLKOzD6AF2dfKrZuXicc_pagr1CUDYvX0NB0gWMgylJX0Pajub1RNvLPBanoJFRh_FX2jdhTj7FcFp9B42V1__boyKsFO7U2HkEMZZeEHKig6cgP3FsGyGu4v-UR5l-1GO6llgp-qjVyg9rG14vBv5pNdnK3t_r-3b6abL-jRQm_H_M2qb50HMoVRlZPL1nKOunGFRbOriUw2kUVVpNCwMzy_NMTQ0BQjAKx-YZcYciEzwOD1f8dBvnmsfgk3nHOGg', 'width': 5733}], 'place_id': 'ChIJqRMc0jKvEmsRjl9q-kI53Is', 'plus_code': {'compound_code': '46V5+3Q The Rocks, New South Wales, Australia', 'global_code': '4RRH46V5+3Q'}, 'rating': 4.5, 'reference': 'ChIJqRMc0jKvEmsRjl9q-kI53Is', 'types': ['restaurant', 'food', 'point_of_interest', 'establishment'], 'user_ratings_total': 1482}, {'business_status': 'OPERATIONAL', 'formatted_address': '17-19 Alberta St, Sydney NSW 2000, Australia', 'geometry': {'location': {'lat': -33.8777986, 'lng': 151.2105307}, 'viewport': {'northeast': {'lat': -33.87646642010727, 'lng': 151.2119536298927}, 'southwest': {'lat': -33.87916607989272, 'lng': 151.2092539701073}}}, 'icon': 'https://maps.gstatic.com/mapfiles/place_api/icons/v1/png_71/restaurant-71.png', 'icon_background_color': '#FF9E67', 'icon_mask_base_uri': 'https://maps.gstatic.com/mapfiles/place_api/icons/v2/restaurant_pinlet', 'name': \"Alberto's Lounge\", 'opening_hours': {'open_now': True}, 'photos': [{'height': 4000, 'html_attributions': ['<a href=\"https://maps.google.com/maps/contrib/117499940191355312122\">Kreeson Naraidoo</a>'], 'photo_reference': 'AeeoHcIrRGlFiqJhyO8bUWBEOAkISbcX23YxG-fWp-mlyxTYRVFi-saTwDW7V_Z5L4Fme9ZPbZ-yCKD3ua6Vh20_1_pZJoPEM3OIGRSDKldcbmY7SqD4_voiJxFgUIy2eISIufneNuQ5EuZW8EQHU1nZkud0C6_PYKPBhfqhRMqFcjuqmnHgniqzViAjYcVsFosAirbDjIIwLASI3TyAfd9tRCJMlTpajkUqi_C6wzTCl1y_syYsmXvffM0jmaMIz6fuiKQS5VCb4KN7z6Y_92k7e71E68BJvlNKIjrz6R5PZc_b20ObranZ6yas6xk5x52LR_RBABusBcjhHf2fNJdi9xL1qa27P1IFG_WupmrIYFg3_9He8gi1_i9Vq4nhelxGg-0OWqgk5QrnIpyClq11wRkuv0ipKUxhrwwQwh_rUkt56g2jabKlrP3dXoK4rIS67rMrqZG6qRAAxyzwF_dfrKnxbbZUEkWK6-rip9HDr7mxLYcq35Za6eKa7puVhraF7kn1QYB4LsH7euH5hcQ4Xnpwah7WTRXAnEJiQZbwrWKVYHnYBOeFGCoWEonBGru6wPv8flei', 'width': 6000}], 'place_id': 'ChIJU_xO9hOvEmsRERZv-itx524', 'plus_code': {'compound_code': '46C6+V6 Sydney, New South Wales, Australia', 'global_code': '4RRH46C6+V6'}, 'rating': 4.6, 'reference': 'ChIJU_xO9hOvEmsRERZv-itx524', 'types': ['restaurant', 'food', 'point_of_interest', 'establishment'], 'user_ratings_total': 1276}, {'business_status': 'OPERATIONAL', 'formatted_address': '83 Percival Rd, Stanmore NSW 2048, Australia', 'geometry': {'location': {'lat': -33.8925457, 'lng': 151.1647218}, 'viewport': {'northeast': {'lat': -33.89113662010728, 'lng': 151.1660246298927}, 'southwest': {'lat': -33.89383627989272, 'lng': 151.1633249701073}}}, 'icon': 'https://maps.gstatic.com/mapfiles/place_api/icons/v1/png_71/restaurant-71.png', 'icon_background_color': '#FF9E67', 'icon_mask_base_uri': 'https://maps.gstatic.com/mapfiles/place_api/icons/v2/restaurant_pinlet', 'name': 'Sixpenny', 'opening_hours': {'open_now': False}, 'photos': [{'height': 1000, 'html_attributions': ['<a href=\"https://maps.google.com/maps/contrib/113719639442868633401\">Ashley Hughes</a>'], 'photo_reference': 'AeeoHcI7m___I04KIe2b4hw3osIs8zMJgwRC7AWnhw9LkH7tja2p1K8ogHbicBT9imAiUyVLsV8PfTVzGohgdiSXz6NeMj3zoY5ynT-D6W1vp7vIfo6SIN4qO63Lz2dLoIn0sZ_Htgm0yLSJTRaBsPDB4uCkgqkuQke4yVKRnBTPmUpYtUQlQzeyRgfMe9l01UYBkrWLQcHT-n15aPOFkcrjPLu_rmZRxuPJZDHTNScMp-RmYcZ1L1nNqixZAIHOmspr21dgL1vui--ezYU-PGL6mx-v7U_IBE3bNs3foTzJtyQRr8zjo5XygDQEVkCP3h2xwjOIm4O-4eyUlwnqTqzOLHd01GrdWN-sHIl_sJbEqWGd19trIOEiDco-H_ONefL2IcDzc7mCjm80Ck5GeFp-SkuY1hpcWnuBeg_V1om-XJxvol-hJPD8mEBemLufPjGJ1BKrKDPQTsM6LBqc5rNzJjnzZNA47RCJrzt4Mr_MrWyj1EWZZ0ErFiInbNxbwVW9NZllAFqjW6-kQlW028tauxDvKatootk-QBzotNQiZobcxn-zbYUWJ5quUsGEr6SfRa7tZhPlV7mFYg', 'width': 1500}], 'place_id': 'ChIJ4_iJ6D2wEmsR61Bxc38rymI', 'plus_code': {'compound_code': '4547+XV Stanmore, New South Wales, Australia', 'global_code': '4RRH4547+XV'}, 'price_level': 4, 'rating': 4.8, 'reference': 'ChIJ4_iJ6D2wEmsR61Bxc38rymI', 'types': ['restaurant', 'food', 'point_of_interest', 'establishment'], 'user_ratings_total': 803}, {'business_status': 'OPERATIONAL', 'formatted_address': 'Enter Via Wynyard Lane, 285 George St, Sydney NSW 2000, Australia', 'geometry': {'location': {'lat': -33.8654672, 'lng': 151.2071353}, 'viewport': {'northeast': {'lat': -33.86434777010727, 'lng': 151.2084091298927}, 'southwest': {'lat': -33.86704742989271, 'lng': 151.2057094701073}}}, 'icon': 'https://maps.gstatic.com/mapfiles/place_api/icons/v1/png_71/restaurant-71.png', 'icon_background_color': '#FF9E67', 'icon_mask_base_uri': 'https://maps.gstatic.com/mapfiles/place_api/icons/v2/restaurant_pinlet', 'name': 'The Sanderson', 'opening_hours': {'open_now': True}, 'photos': [{'height': 1530, 'html_attributions': ['<a href=\"https://maps.google.com/maps/contrib/104125705208739113344\">A Google User</a>'], 'photo_reference': 'AeeoHcIWTKk3uYMfPBIchBShZ4_ASSL5fYK-mBSYdQiK0yoOoU71cETAXEpMALERHZU1q8EqcRxVsUriZbV6B5k7sHnvA8w__Pb1L-I_AmO_qOHroyGtkgDeYH0FkSELabX84WUMJwMj5iTg278Jcc2hHjTfwOx5UWcvSH5jQ_A7FnqpPl1qXmkl5cIrBh7rPV8Mx8Vn7mvCZgLB0GdgortVYY9Xc81I2U3ky-SudqYqJewlFSkXzoAzYEPjn68s4zbaAFqFUSwSxDmZ8k00fJbOkYVetnBF6SU364ghCnynhRbVE8R5AJc', 'width': 2048}], 'place_id': 'ChIJsfWVuAOvEmsRlIlTGlDNuWI', 'plus_code': {'compound_code': '46M4+RV Sydney, New South Wales, Australia', 'global_code': '4RRH46M4+RV'}, 'rating': 4.7, 'reference': 'ChIJsfWVuAOvEmsRlIlTGlDNuWI', 'types': ['restaurant', 'food', 'point_of_interest', 'establishment'], 'user_ratings_total': 280}, {'business_status': 'OPERATIONAL', 'formatted_address': '3/50 Murray St, Pyrmont NSW 2009, Australia', 'geometry': {'location': {'lat': -33.870383, 'lng': 151.1979245}, 'viewport': {'northeast': {'lat': -33.86901092010727, 'lng': 151.1991702798927}, 'southwest': {'lat': -33.87171057989271, 'lng': 151.1964706201073}}}, 'icon': 'https://maps.gstatic.com/mapfiles/place_api/icons/v1/png_71/restaurant-71.png', 'icon_background_color': '#FF9E67', 'icon_mask_base_uri': 'https://maps.gstatic.com/mapfiles/place_api/icons/v2/restaurant_pinlet', 'name': 'The Little Snail Restaurant', 'opening_hours': {'open_now': True}, 'photos': [{'height': 900, 'html_attributions': ['<a href=\"https://maps.google.com/maps/contrib/114727320476039103791\">The Little Snail</a>'], 'photo_reference': 'AeeoHcKYcRSgWaM0TGKPD6w0L22SMrbPyUzsZjpHdlTYkVT5LpzbTl4ik-0KESsR55ki4RvI_029_EyROiuc-h9hHxGgUawK_n3Ip0wwDRMl6rgcnhIqN_r68CK5P6LT5uZEHFIImNdsrkoR8hOMQG1BAFR-Byceii1OCzFprSFcLE_2usVUB1s7g59EvoIf3HlzX1Jl0KFhAoHVZGkQDZLeHnY_7svAXec3JRUByrJ4WJxoCEPrOvYUh8r9ORNYgb0TBR39Z47kW0SQd559m-BvJBL11qaGXZozW6dne3BJqvrlS6WXEOM', 'width': 1350}], 'place_id': 'ChIJtwapWjeuEmsRcxV5JARHpSk', 'plus_code': {'compound_code': '45HX+R5 Pyrmont, New South Wales, Australia', 'global_code': '4RRH45HX+R5'}, 'price_level': 2, 'rating': 4.5, 'reference': 'ChIJtwapWjeuEmsRcxV5JARHpSk', 'types': ['restaurant', 'food', 'point_of_interest', 'establishment'], 'user_ratings_total': 2921}], 'status': 'OK'}\n"
     ]
    }
   ],
   "source": [
    "import requests\n",
    "\n",
    "url = \"https://google-map-places2.p.rapidapi.com/textsearch\"\n",
    "\n",
    "querystring = {\"query\":\"restaurants in Sydney\"}\n",
    "\n",
    "headers = {\n",
    "    \"x-rapidapi-key\": \"519ceeac66msh6d200392f76ed01p1c235djsn3e4f3a996932\",\n",
    "    \"x-rapidapi-host\": \"google-map-places2.p.rapidapi.com\"\n",
    "}\n",
    "\n",
    "response = requests.get(url, headers=headers, params=querystring)\n",
    "\n",
    "print(response.json())\n"
   ]
  },
  {
   "cell_type": "code",
   "execution_count": 0,
   "metadata": {
    "application/vnd.databricks.v1+cell": {
     "cellMetadata": {
      "byteLimit": 2048000,
      "rowLimit": 10000
     },
     "inputWidgets": {},
     "nuid": "2d6e6b83-b521-49d1-a3e3-6ba49863d45c",
     "showTitle": true,
     "tableResultSettingsMap": {},
     "title": "Business Requirement using ETL Process"
    }
   },
   "outputs": [
    {
     "output_type": "display_data",
     "data": {
      "text/html": [
       "<style scoped>\n",
       "  .table-result-container {\n",
       "    max-height: 300px;\n",
       "    overflow: auto;\n",
       "  }\n",
       "  table, th, td {\n",
       "    border: 1px solid black;\n",
       "    border-collapse: collapse;\n",
       "  }\n",
       "  th, td {\n",
       "    padding: 5px;\n",
       "  }\n",
       "  th {\n",
       "    text-align: left;\n",
       "  }\n",
       "</style><div class='table-result-container'><table class='table-result'><thead style='background-color: white'><tr><th>name</th><th>address</th><th>rating</th><th>latitude</th><th>longitude</th></tr></thead><tbody><tr><td>Qaffeine</td><td>Unnamed Road, Silpa Gram Craft Village, HITEC City, Rai Durg, Hyderabad, Telangana 500081, India</td><td>4.4</td><td>17.4335028</td><td>78.3771782</td></tr><tr><td>BREWS & BLENDS - T-Hub</td><td>T-Hub 2-0 | Technology Hub, 2-0 20, Inorbit Mall Rd, Vittal Rao Nagar, Madhapur, Hyderabad, Telangana 500081, India</td><td>4.6</td><td>17.4338791</td><td>78.3791092</td></tr><tr><td>Dreams Cafe</td><td>ground floor, The pinnacle, Lumbini Avenue, Gachibowli, Hyderabad, Telangana 500032, India</td><td>4.8</td><td>17.4328347</td><td>78.3739506</td></tr><tr><td>House of Truly (Gachibowli)</td><td>Ground Floor, Plot No.44, Jayabheri Pine Valley, Gachibowli, Hyderabad, Telangana 500032, India</td><td>4.7</td><td>17.4304425</td><td>78.3716366</td></tr><tr><td>Third Wave Coffee</td><td>Gate Number 6, Retail Ground Floor, Magma Block Circle 20, Knowledge City, Salarpuria Sattva, Raidurg Village, Serilingampalle (M), Hyderabad, Telangana 500032, India</td><td>4.6</td><td>17.4330773</td><td>78.3823398</td></tr><tr><td>TRUE BLACK speciality coffee | The Loft - Hitech City</td><td>THE LOFT, Silpa Gram Craft Village, HITEC City, Hyderabad, Telangana 500081, India</td><td>4.5</td><td>17.4322944</td><td>78.3825981</td></tr><tr><td>Brew La La</td><td>1, Hitech City Main Rd, near Galaxy by Auro Realty, Lumbini Avenue, Gachibowli, Hyderabad, Telangana 500081, India</td><td>4.6</td><td>17.4368021</td><td>78.37544489999999</td></tr><tr><td>Lubb dubb cafe</td><td>Care Hospitals, Jayabheri Pine Valley, Gachibowli, Hyderabad, Telangana 500032, India</td><td>4.3</td><td>17.4306196</td><td>78.3720754</td></tr><tr><td>Roast - The Caffeine Capital</td><td>82&84, Hitech City Main Rd, near Deccan serai, HUDA Techno Enclave, HITEC City, Hyderabad, Telangana 500081, India</td><td>4.4</td><td>17.4427945</td><td>78.3824664</td></tr><tr><td>abCoffee The Skyview RMZ</td><td>RMZ The Skyview, Food Court, 1st Floor, The Skyview, 20, Hitech City Main Rd, Diamond Hills, Lumbini Avenue, Gachibowli, Rai Durg, Hyderabad, Telangana 500032, India</td><td>5</td><td>17.430678</td><td>78.3756326</td></tr><tr><td>Cafe Niloufer Hitech City</td><td>Plot no.30/C, Sy No.83/1, Tower - 2, Orbit Building, TSIIC, Raidurgam, Penmaktha, Serilingampalle (M), Hyderabad, Telangana 500081, India</td><td>4</td><td>17.4341926</td><td>78.37713099999999</td></tr><tr><td>Roast 24 Seven</td><td>Sy no 18 & 19, Plot No: 25, 42, 44, behind Vyshnavi Cynosure, Telecom Nagar, Gachibowli, Hyderabad, Telangana 500032, India</td><td>4.5</td><td>17.4373126</td><td>78.3671708</td></tr><tr><td>The Monochrome Cafe</td><td>1st floor, Preston Prime Mall, L1-01, Lumbini Avenue, Gachibowli, Hyderabad, Telangana 500081, India</td><td>4.6</td><td>17.4308953</td><td>78.3732955</td></tr><tr><td>Hard Rock Cafe Hitech City</td><td>Salarpuria Sattva, Plot 2, Knowledge City Rd, Guttala_Begumpet, Silpa Gram Craft Village, Madhapur, Hyderabad, Telangana 500081, India</td><td>4.4</td><td>17.4336814</td><td>78.38294580000002</td></tr><tr><td>Ruth's Cafe</td><td>Ground Floor, Plot No: 25, 23,24, Lumbini Avenue, Gachibowli, Hyderabad, Telangana 500032, India</td><td>5</td><td>17.4306406</td><td>78.3745493</td></tr><tr><td>abCoffee Commercezone Hetero</td><td>Lower Stilt Level, Hetero Wing Knowledge City, Raidurgam, Circle No. 20, Serilingampalle (M), Hyderabad, Telangana 500081, India</td><td>4.9</td><td>17.4299473</td><td>78.38126419999999</td></tr><tr><td>Cafe Eclat</td><td>Gachibowli Flyover, Diamond Hills, Rajiv gandhi Nagar, Gachibowli, Hyderabad, Telangana 500032, India</td><td>4.1</td><td>17.4350786</td><td>78.36725249999999</td></tr><tr><td>IYERS FILTER COFFEE</td><td>1-90/7/B/22A, The Westin Hotel Rd, HUDA Techno Enclave, HITEC City, Hyderabad, Telangana 500081, India</td><td>4.4</td><td>17.4440288</td><td>78.3836448</td></tr><tr><td>Cafe Coffee Day - Madhapur</td><td>Raheja Mind Space, Madhapur, Telangana 500081, India</td><td>4</td><td>17.4399307</td><td>78.3782457</td></tr><tr><td>abCoffee Mindspace Building No. 9</td><td>Building, Food Court, 9, Mindspace Rd, HUDA Techno Enclave, HITEC City, Hyderabad, Telangana 500081, India</td><td>4.8</td><td>17.4412681</td><td>78.3806213</td></tr></tbody></table></div>"
      ]
     },
     "metadata": {
      "application/vnd.databricks.v1+output": {
       "addedWidgets": {},
       "aggData": [],
       "aggError": "",
       "aggOverflow": false,
       "aggSchema": [],
       "aggSeriesLimitReached": false,
       "aggType": "",
       "arguments": {},
       "columnCustomDisplayInfos": {},
       "data": [
        [
         "Qaffeine",
         "Unnamed Road, Silpa Gram Craft Village, HITEC City, Rai Durg, Hyderabad, Telangana 500081, India",
         "4.4",
         17.4335028,
         78.3771782
        ],
        [
         "BREWS & BLENDS - T-Hub",
         "T-Hub 2-0 | Technology Hub, 2-0 20, Inorbit Mall Rd, Vittal Rao Nagar, Madhapur, Hyderabad, Telangana 500081, India",
         "4.6",
         17.4338791,
         78.3791092
        ],
        [
         "Dreams Cafe",
         "ground floor, The pinnacle, Lumbini Avenue, Gachibowli, Hyderabad, Telangana 500032, India",
         "4.8",
         17.4328347,
         78.3739506
        ],
        [
         "House of Truly (Gachibowli)",
         "Ground Floor, Plot No.44, Jayabheri Pine Valley, Gachibowli, Hyderabad, Telangana 500032, India",
         "4.7",
         17.4304425,
         78.3716366
        ],
        [
         "Third Wave Coffee",
         "Gate Number 6, Retail Ground Floor, Magma Block Circle 20, Knowledge City, Salarpuria Sattva, Raidurg Village, Serilingampalle (M), Hyderabad, Telangana 500032, India",
         "4.6",
         17.4330773,
         78.3823398
        ],
        [
         "TRUE BLACK speciality coffee | The Loft - Hitech City",
         "THE LOFT, Silpa Gram Craft Village, HITEC City, Hyderabad, Telangana 500081, India",
         "4.5",
         17.4322944,
         78.3825981
        ],
        [
         "Brew La La",
         "1, Hitech City Main Rd, near Galaxy by Auro Realty, Lumbini Avenue, Gachibowli, Hyderabad, Telangana 500081, India",
         "4.6",
         17.4368021,
         78.37544489999999
        ],
        [
         "Lubb dubb cafe",
         "Care Hospitals, Jayabheri Pine Valley, Gachibowli, Hyderabad, Telangana 500032, India",
         "4.3",
         17.4306196,
         78.3720754
        ],
        [
         "Roast - The Caffeine Capital",
         "82&84, Hitech City Main Rd, near Deccan serai, HUDA Techno Enclave, HITEC City, Hyderabad, Telangana 500081, India",
         "4.4",
         17.4427945,
         78.3824664
        ],
        [
         "abCoffee The Skyview RMZ",
         "RMZ The Skyview, Food Court, 1st Floor, The Skyview, 20, Hitech City Main Rd, Diamond Hills, Lumbini Avenue, Gachibowli, Rai Durg, Hyderabad, Telangana 500032, India",
         "5",
         17.430678,
         78.3756326
        ],
        [
         "Cafe Niloufer Hitech City",
         "Plot no.30/C, Sy No.83/1, Tower - 2, Orbit Building, TSIIC, Raidurgam, Penmaktha, Serilingampalle (M), Hyderabad, Telangana 500081, India",
         "4",
         17.4341926,
         78.37713099999999
        ],
        [
         "Roast 24 Seven",
         "Sy no 18 & 19, Plot No: 25, 42, 44, behind Vyshnavi Cynosure, Telecom Nagar, Gachibowli, Hyderabad, Telangana 500032, India",
         "4.5",
         17.4373126,
         78.3671708
        ],
        [
         "The Monochrome Cafe",
         "1st floor, Preston Prime Mall, L1-01, Lumbini Avenue, Gachibowli, Hyderabad, Telangana 500081, India",
         "4.6",
         17.4308953,
         78.3732955
        ],
        [
         "Hard Rock Cafe Hitech City",
         "Salarpuria Sattva, Plot 2, Knowledge City Rd, Guttala_Begumpet, Silpa Gram Craft Village, Madhapur, Hyderabad, Telangana 500081, India",
         "4.4",
         17.4336814,
         78.38294580000002
        ],
        [
         "Ruth's Cafe",
         "Ground Floor, Plot No: 25, 23,24, Lumbini Avenue, Gachibowli, Hyderabad, Telangana 500032, India",
         "5",
         17.4306406,
         78.3745493
        ],
        [
         "abCoffee Commercezone Hetero",
         "Lower Stilt Level, Hetero Wing Knowledge City, Raidurgam, Circle No. 20, Serilingampalle (M), Hyderabad, Telangana 500081, India",
         "4.9",
         17.4299473,
         78.38126419999999
        ],
        [
         "Cafe Eclat",
         "Gachibowli Flyover, Diamond Hills, Rajiv gandhi Nagar, Gachibowli, Hyderabad, Telangana 500032, India",
         "4.1",
         17.4350786,
         78.36725249999999
        ],
        [
         "IYERS FILTER COFFEE",
         "1-90/7/B/22A, The Westin Hotel Rd, HUDA Techno Enclave, HITEC City, Hyderabad, Telangana 500081, India",
         "4.4",
         17.4440288,
         78.3836448
        ],
        [
         "Cafe Coffee Day - Madhapur",
         "Raheja Mind Space, Madhapur, Telangana 500081, India",
         "4",
         17.4399307,
         78.3782457
        ],
        [
         "abCoffee Mindspace Building No. 9",
         "Building, Food Court, 9, Mindspace Rd, HUDA Techno Enclave, HITEC City, Hyderabad, Telangana 500081, India",
         "4.8",
         17.4412681,
         78.3806213
        ]
       ],
       "datasetInfos": [],
       "dbfsResultPath": null,
       "isJsonSchema": true,
       "metadata": {},
       "overflow": false,
       "plotOptions": {
        "customPlotOptions": {},
        "displayType": "table",
        "pivotAggregation": null,
        "pivotColumns": null,
        "xColumns": null,
        "yColumns": null
       },
       "removedWidgets": [],
       "schema": [
        {
         "metadata": "{}",
         "name": "name",
         "type": "\"string\""
        },
        {
         "metadata": "{}",
         "name": "address",
         "type": "\"string\""
        },
        {
         "metadata": "{}",
         "name": "rating",
         "type": "\"string\""
        },
        {
         "metadata": "{}",
         "name": "latitude",
         "type": "\"double\""
        },
        {
         "metadata": "{}",
         "name": "longitude",
         "type": "\"double\""
        }
       ],
       "type": "table"
      }
     },
     "output_type": "display_data"
    }
   ],
   "source": [
    "#Define all lib at once\n",
    "import requests\n",
    "import json\n",
    "import time \n",
    "import pandas as pd\n",
    "from pyspark.sql.types import StructType, StructField, StringType, DoubleType\n",
    "\n",
    "# API configuration \n",
    "url = \"https://google-map-places2.p.rapidapi.com/textsearch\"\n",
    "headers = {\n",
    "    \"x-rapidapi-key\": \"519ceeac66msh6d200392f76ed01p1c235djsn3e4f3a996932\",\n",
    "    \"x-rapidapi-host\": \"google-map-places2.p.rapidapi.com\"\n",
    "}\n",
    "\n",
    "# Coordinates for Seneca Global(Search in Google maps->right click on Red button->What's here)\n",
    "latitude = 17.434848\n",
    "longitude = 78.376755\n",
    "\n",
    "# EXTRACT: Fetch data from API\n",
    "querystring = {\n",
    "    \"query\": \"cafe OR coffee\", #Searching for cafe \n",
    "    \"location\": f\"{latitude},{longitude}\",\n",
    "    \"radius\": \"200\"  # in meters-Give minimum radius as our cafe is in the same building\n",
    "}\n",
    "\n",
    "response = requests.get(url, headers=headers, params=querystring)\n",
    "data = response.json()\n",
    "\n",
    "# TRANSFORM: Process and Structure Data\n",
    "cafes = []\n",
    "for place in data.get(\"results\", []):  # Keeping this loop, since it processes individual cafes\n",
    "    cafe_data = {\n",
    "        \"name\": place.get(\"name\"),\n",
    "        \"address\": place.get(\"formatted_address\", place.get(\"vicinity\", \"N/A\")),\n",
    "        \"rating\": str(place.get(\"rating\", \"N/A\")),\n",
    "        \"latitude\": place[\"geometry\"][\"location\"][\"lat\"],\n",
    "        \"longitude\": place[\"geometry\"][\"location\"][\"lng\"]\n",
    "    }\n",
    "    cafes.append(cafe_data)\n",
    "# Convert Processed Data into Pandas DataFrame\n",
    "df = pd.DataFrame(cafes)\n",
    "\n",
    "\n",
    "# LOAD : Save data to Spark Table\n",
    "\n",
    "schema = StructType([\n",
    "    StructField(\"name\", StringType(), True),\n",
    "    StructField(\"address\", StringType(), True),\n",
    "    StructField(\"rating\", StringType(), True),\n",
    "    StructField(\"latitude\", DoubleType(), True),\n",
    "    StructField(\"longitude\", DoubleType(), True)\n",
    "])\n",
    "\n",
    "df_spark = spark.createDataFrame(df, schema=schema)\n",
    "df_spark.write.mode(\"append\").saveAsTable(\"Nearby_SenecaGlobalCafes\")\n",
    "display(df_spark)\n"
   ]
  },
  {
   "cell_type": "code",
   "execution_count": 0,
   "metadata": {
    "application/vnd.databricks.v1+cell": {
     "cellMetadata": {
      "byteLimit": 2048000,
      "implicitDf": true,
      "rowLimit": 10000
     },
     "inputWidgets": {},
     "nuid": "02adf18d-ca18-428a-b0e8-04af0e8e843d",
     "showTitle": true,
     "tableResultSettingsMap": {},
     "title": "Retrieve all records"
    }
   },
   "outputs": [
    {
     "output_type": "display_data",
     "data": {
      "text/html": [
       "<style scoped>\n",
       "  .table-result-container {\n",
       "    max-height: 300px;\n",
       "    overflow: auto;\n",
       "  }\n",
       "  table, th, td {\n",
       "    border: 1px solid black;\n",
       "    border-collapse: collapse;\n",
       "  }\n",
       "  th, td {\n",
       "    padding: 5px;\n",
       "  }\n",
       "  th {\n",
       "    text-align: left;\n",
       "  }\n",
       "</style><div class='table-result-container'><table class='table-result'><thead style='background-color: white'><tr><th>name</th><th>address</th><th>rating</th><th>latitude</th><th>longitude</th></tr></thead><tbody><tr><td>Qaffeine</td><td>Unnamed Road, Silpa Gram Craft Village, HITEC City, Rai Durg, Hyderabad, Telangana 500081, India</td><td>4.4</td><td>17.4335028</td><td>78.3771782</td></tr><tr><td>BREWS & BLENDS - T-Hub</td><td>T-Hub 2-0 | Technology Hub, 2-0 20, Inorbit Mall Rd, Vittal Rao Nagar, Madhapur, Hyderabad, Telangana 500081, India</td><td>4.6</td><td>17.4338791</td><td>78.3791092</td></tr><tr><td>Dreams Cafe</td><td>ground floor, The pinnacle, Lumbini Avenue, Gachibowli, Hyderabad, Telangana 500032, India</td><td>4.8</td><td>17.4328347</td><td>78.3739506</td></tr><tr><td>House of Truly (Gachibowli)</td><td>Ground Floor, Plot No.44, Jayabheri Pine Valley, Gachibowli, Hyderabad, Telangana 500032, India</td><td>4.7</td><td>17.4304425</td><td>78.3716366</td></tr><tr><td>Third Wave Coffee</td><td>Gate Number 6, Retail Ground Floor, Magma Block Circle 20, Knowledge City, Salarpuria Sattva, Raidurg Village, Serilingampalle (M), Hyderabad, Telangana 500032, India</td><td>4.6</td><td>17.4330773</td><td>78.3823398</td></tr><tr><td>TRUE BLACK speciality coffee | The Loft - Hitech City</td><td>THE LOFT, Silpa Gram Craft Village, HITEC City, Hyderabad, Telangana 500081, India</td><td>4.5</td><td>17.4322944</td><td>78.3825981</td></tr><tr><td>Brew La La</td><td>1, Hitech City Main Rd, near Galaxy by Auro Realty, Lumbini Avenue, Gachibowli, Hyderabad, Telangana 500081, India</td><td>4.6</td><td>17.4368021</td><td>78.37544489999999</td></tr><tr><td>Lubb dubb cafe</td><td>Care Hospitals, Jayabheri Pine Valley, Gachibowli, Hyderabad, Telangana 500032, India</td><td>4.3</td><td>17.4306196</td><td>78.3720754</td></tr><tr><td>Roast - The Caffeine Capital</td><td>82&84, Hitech City Main Rd, near Deccan serai, HUDA Techno Enclave, HITEC City, Hyderabad, Telangana 500081, India</td><td>4.4</td><td>17.4427945</td><td>78.3824664</td></tr><tr><td>abCoffee The Skyview RMZ</td><td>RMZ The Skyview, Food Court, 1st Floor, The Skyview, 20, Hitech City Main Rd, Diamond Hills, Lumbini Avenue, Gachibowli, Rai Durg, Hyderabad, Telangana 500032, India</td><td>5</td><td>17.430678</td><td>78.3756326</td></tr><tr><td>Cafe Niloufer Hitech City</td><td>Plot no.30/C, Sy No.83/1, Tower - 2, Orbit Building, TSIIC, Raidurgam, Penmaktha, Serilingampalle (M), Hyderabad, Telangana 500081, India</td><td>4</td><td>17.4341926</td><td>78.37713099999999</td></tr><tr><td>Roast 24 Seven</td><td>Sy no 18 & 19, Plot No: 25, 42, 44, behind Vyshnavi Cynosure, Telecom Nagar, Gachibowli, Hyderabad, Telangana 500032, India</td><td>4.5</td><td>17.4373126</td><td>78.3671708</td></tr><tr><td>The Monochrome Cafe</td><td>1st floor, Preston Prime Mall, L1-01, Lumbini Avenue, Gachibowli, Hyderabad, Telangana 500081, India</td><td>4.6</td><td>17.4308953</td><td>78.3732955</td></tr><tr><td>Hard Rock Cafe Hitech City</td><td>Salarpuria Sattva, Plot 2, Knowledge City Rd, Guttala_Begumpet, Silpa Gram Craft Village, Madhapur, Hyderabad, Telangana 500081, India</td><td>4.4</td><td>17.4336814</td><td>78.38294580000002</td></tr><tr><td>Ruth's Cafe</td><td>Ground Floor, Plot No: 25, 23,24, Lumbini Avenue, Gachibowli, Hyderabad, Telangana 500032, India</td><td>5</td><td>17.4306406</td><td>78.3745493</td></tr><tr><td>abCoffee Commercezone Hetero</td><td>Lower Stilt Level, Hetero Wing Knowledge City, Raidurgam, Circle No. 20, Serilingampalle (M), Hyderabad, Telangana 500081, India</td><td>4.9</td><td>17.4299473</td><td>78.38126419999999</td></tr><tr><td>Cafe Eclat</td><td>Gachibowli Flyover, Diamond Hills, Rajiv gandhi Nagar, Gachibowli, Hyderabad, Telangana 500032, India</td><td>4.1</td><td>17.4350786</td><td>78.36725249999999</td></tr><tr><td>IYERS FILTER COFFEE</td><td>1-90/7/B/22A, The Westin Hotel Rd, HUDA Techno Enclave, HITEC City, Hyderabad, Telangana 500081, India</td><td>4.4</td><td>17.4440288</td><td>78.3836448</td></tr><tr><td>Cafe Coffee Day - Madhapur</td><td>Raheja Mind Space, Madhapur, Telangana 500081, India</td><td>4</td><td>17.4399307</td><td>78.3782457</td></tr><tr><td>abCoffee Mindspace Building No. 9</td><td>Building, Food Court, 9, Mindspace Rd, HUDA Techno Enclave, HITEC City, Hyderabad, Telangana 500081, India</td><td>4.8</td><td>17.4412681</td><td>78.3806213</td></tr></tbody></table></div>"
      ]
     },
     "metadata": {
      "application/vnd.databricks.v1+output": {
       "addedWidgets": {},
       "aggData": [],
       "aggError": "",
       "aggOverflow": false,
       "aggSchema": [],
       "aggSeriesLimitReached": false,
       "aggType": "",
       "arguments": {},
       "columnCustomDisplayInfos": {},
       "data": [
        [
         "Qaffeine",
         "Unnamed Road, Silpa Gram Craft Village, HITEC City, Rai Durg, Hyderabad, Telangana 500081, India",
         "4.4",
         17.4335028,
         78.3771782
        ],
        [
         "BREWS & BLENDS - T-Hub",
         "T-Hub 2-0 | Technology Hub, 2-0 20, Inorbit Mall Rd, Vittal Rao Nagar, Madhapur, Hyderabad, Telangana 500081, India",
         "4.6",
         17.4338791,
         78.3791092
        ],
        [
         "Dreams Cafe",
         "ground floor, The pinnacle, Lumbini Avenue, Gachibowli, Hyderabad, Telangana 500032, India",
         "4.8",
         17.4328347,
         78.3739506
        ],
        [
         "House of Truly (Gachibowli)",
         "Ground Floor, Plot No.44, Jayabheri Pine Valley, Gachibowli, Hyderabad, Telangana 500032, India",
         "4.7",
         17.4304425,
         78.3716366
        ],
        [
         "Third Wave Coffee",
         "Gate Number 6, Retail Ground Floor, Magma Block Circle 20, Knowledge City, Salarpuria Sattva, Raidurg Village, Serilingampalle (M), Hyderabad, Telangana 500032, India",
         "4.6",
         17.4330773,
         78.3823398
        ],
        [
         "TRUE BLACK speciality coffee | The Loft - Hitech City",
         "THE LOFT, Silpa Gram Craft Village, HITEC City, Hyderabad, Telangana 500081, India",
         "4.5",
         17.4322944,
         78.3825981
        ],
        [
         "Brew La La",
         "1, Hitech City Main Rd, near Galaxy by Auro Realty, Lumbini Avenue, Gachibowli, Hyderabad, Telangana 500081, India",
         "4.6",
         17.4368021,
         78.37544489999999
        ],
        [
         "Lubb dubb cafe",
         "Care Hospitals, Jayabheri Pine Valley, Gachibowli, Hyderabad, Telangana 500032, India",
         "4.3",
         17.4306196,
         78.3720754
        ],
        [
         "Roast - The Caffeine Capital",
         "82&84, Hitech City Main Rd, near Deccan serai, HUDA Techno Enclave, HITEC City, Hyderabad, Telangana 500081, India",
         "4.4",
         17.4427945,
         78.3824664
        ],
        [
         "abCoffee The Skyview RMZ",
         "RMZ The Skyview, Food Court, 1st Floor, The Skyview, 20, Hitech City Main Rd, Diamond Hills, Lumbini Avenue, Gachibowli, Rai Durg, Hyderabad, Telangana 500032, India",
         "5",
         17.430678,
         78.3756326
        ],
        [
         "Cafe Niloufer Hitech City",
         "Plot no.30/C, Sy No.83/1, Tower - 2, Orbit Building, TSIIC, Raidurgam, Penmaktha, Serilingampalle (M), Hyderabad, Telangana 500081, India",
         "4",
         17.4341926,
         78.37713099999999
        ],
        [
         "Roast 24 Seven",
         "Sy no 18 & 19, Plot No: 25, 42, 44, behind Vyshnavi Cynosure, Telecom Nagar, Gachibowli, Hyderabad, Telangana 500032, India",
         "4.5",
         17.4373126,
         78.3671708
        ],
        [
         "The Monochrome Cafe",
         "1st floor, Preston Prime Mall, L1-01, Lumbini Avenue, Gachibowli, Hyderabad, Telangana 500081, India",
         "4.6",
         17.4308953,
         78.3732955
        ],
        [
         "Hard Rock Cafe Hitech City",
         "Salarpuria Sattva, Plot 2, Knowledge City Rd, Guttala_Begumpet, Silpa Gram Craft Village, Madhapur, Hyderabad, Telangana 500081, India",
         "4.4",
         17.4336814,
         78.38294580000002
        ],
        [
         "Ruth's Cafe",
         "Ground Floor, Plot No: 25, 23,24, Lumbini Avenue, Gachibowli, Hyderabad, Telangana 500032, India",
         "5",
         17.4306406,
         78.3745493
        ],
        [
         "abCoffee Commercezone Hetero",
         "Lower Stilt Level, Hetero Wing Knowledge City, Raidurgam, Circle No. 20, Serilingampalle (M), Hyderabad, Telangana 500081, India",
         "4.9",
         17.4299473,
         78.38126419999999
        ],
        [
         "Cafe Eclat",
         "Gachibowli Flyover, Diamond Hills, Rajiv gandhi Nagar, Gachibowli, Hyderabad, Telangana 500032, India",
         "4.1",
         17.4350786,
         78.36725249999999
        ],
        [
         "IYERS FILTER COFFEE",
         "1-90/7/B/22A, The Westin Hotel Rd, HUDA Techno Enclave, HITEC City, Hyderabad, Telangana 500081, India",
         "4.4",
         17.4440288,
         78.3836448
        ],
        [
         "Cafe Coffee Day - Madhapur",
         "Raheja Mind Space, Madhapur, Telangana 500081, India",
         "4",
         17.4399307,
         78.3782457
        ],
        [
         "abCoffee Mindspace Building No. 9",
         "Building, Food Court, 9, Mindspace Rd, HUDA Techno Enclave, HITEC City, Hyderabad, Telangana 500081, India",
         "4.8",
         17.4412681,
         78.3806213
        ]
       ],
       "datasetInfos": [],
       "dbfsResultPath": null,
       "isJsonSchema": true,
       "metadata": {},
       "overflow": false,
       "plotOptions": {
        "customPlotOptions": {},
        "displayType": "table",
        "pivotAggregation": null,
        "pivotColumns": null,
        "xColumns": null,
        "yColumns": null
       },
       "removedWidgets": [],
       "schema": [
        {
         "metadata": "{}",
         "name": "name",
         "type": "\"string\""
        },
        {
         "metadata": "{}",
         "name": "address",
         "type": "\"string\""
        },
        {
         "metadata": "{}",
         "name": "rating",
         "type": "\"string\""
        },
        {
         "metadata": "{}",
         "name": "latitude",
         "type": "\"double\""
        },
        {
         "metadata": "{}",
         "name": "longitude",
         "type": "\"double\""
        }
       ],
       "type": "table"
      }
     },
     "output_type": "display_data"
    }
   ],
   "source": [
    "%sql\n",
    "select * from Nearby_SenecaGlobalCafes\n",
    "\n"
   ]
  },
  {
   "cell_type": "code",
   "execution_count": 0,
   "metadata": {
    "application/vnd.databricks.v1+cell": {
     "cellMetadata": {
      "byteLimit": 2048000,
      "implicitDf": true,
      "rowLimit": 10000
     },
     "inputWidgets": {},
     "nuid": "afa1e88e-a989-41a2-8fd4-b454b5314d6b",
     "showTitle": true,
     "tableResultSettingsMap": {},
     "title": "Search your remembered name- Case sensitive"
    }
   },
   "outputs": [
    {
     "output_type": "display_data",
     "data": {
      "text/html": [
       "<style scoped>\n",
       "  .table-result-container {\n",
       "    max-height: 300px;\n",
       "    overflow: auto;\n",
       "  }\n",
       "  table, th, td {\n",
       "    border: 1px solid black;\n",
       "    border-collapse: collapse;\n",
       "  }\n",
       "  th, td {\n",
       "    padding: 5px;\n",
       "  }\n",
       "  th {\n",
       "    text-align: left;\n",
       "  }\n",
       "</style><div class='table-result-container'><table class='table-result'><thead style='background-color: white'><tr><th>name</th><th>address</th><th>rating</th><th>latitude</th><th>longitude</th></tr></thead><tbody><tr><td>Cafe Niloufer Hitech City</td><td>Plot no.30/C, Sy No.83/1, Tower - 2, Orbit Building, TSIIC, Raidurgam, Penmaktha, Serilingampalle (M), Hyderabad, Telangana 500081, India</td><td>4</td><td>17.4341926</td><td>78.37713099999999</td></tr></tbody></table></div>"
      ]
     },
     "metadata": {
      "application/vnd.databricks.v1+output": {
       "addedWidgets": {},
       "aggData": [],
       "aggError": "",
       "aggOverflow": false,
       "aggSchema": [],
       "aggSeriesLimitReached": false,
       "aggType": "",
       "arguments": {},
       "columnCustomDisplayInfos": {},
       "data": [
        [
         "Cafe Niloufer Hitech City",
         "Plot no.30/C, Sy No.83/1, Tower - 2, Orbit Building, TSIIC, Raidurgam, Penmaktha, Serilingampalle (M), Hyderabad, Telangana 500081, India",
         "4",
         17.4341926,
         78.37713099999999
        ]
       ],
       "datasetInfos": [],
       "dbfsResultPath": null,
       "isJsonSchema": true,
       "metadata": {},
       "overflow": false,
       "plotOptions": {
        "customPlotOptions": {},
        "displayType": "table",
        "pivotAggregation": null,
        "pivotColumns": null,
        "xColumns": null,
        "yColumns": null
       },
       "removedWidgets": [],
       "schema": [
        {
         "metadata": "{}",
         "name": "name",
         "type": "\"string\""
        },
        {
         "metadata": "{}",
         "name": "address",
         "type": "\"string\""
        },
        {
         "metadata": "{}",
         "name": "rating",
         "type": "\"string\""
        },
        {
         "metadata": "{}",
         "name": "latitude",
         "type": "\"double\""
        },
        {
         "metadata": "{}",
         "name": "longitude",
         "type": "\"double\""
        }
       ],
       "type": "table"
      }
     },
     "output_type": "display_data"
    }
   ],
   "source": [
    "%sql\n",
    "---select * from Nearby_SenecaGlobalCafes\n",
    "----where name like '%Nilo%'\n",
    "select * from Nearby_SenecaGlobalCafes\n",
    "where LOWER(name) LIKE '%nilo%'"
   ]
  }
 ],
 "metadata": {
  "application/vnd.databricks.v1+notebook": {
   "computePreferences": null,
   "dashboards": [],
   "environmentMetadata": {
    "base_environment": "",
    "environment_version": "1"
   },
   "inputWidgetPreferences": null,
   "language": "python",
   "notebookMetadata": {
    "mostRecentlyExecutedCommandWithImplicitDF": {
     "commandId": 1853572874289005,
     "dataframes": [
      "_sqldf"
     ]
    },
    "pythonIndentUnit": 4
   },
   "notebookName": "Seneca Global Cafes",
   "widgets": {}
  }
 },
 "nbformat": 4,
 "nbformat_minor": 0
}